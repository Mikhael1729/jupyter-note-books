{
 "cells": [
  {
   "cell_type": "markdown",
   "metadata": {},
   "source": [
    "# This is my first note\n",
    "\n",
    "As you can see, I can write in *markdown* mode to write text in the most common-used format to write hypertext in programming. Apparently, the adventage of this tool compared with others is that the code written in Python is executed below of the code.\n",
    "\n",
    "## Another section (demonstration)"
   ]
  },
  {
   "cell_type": "code",
   "execution_count": 4,
   "metadata": {},
   "outputs": [],
   "source": [
    "def count_letters(word):\n",
    "    count = 0\n",
    "    for letter in word:\n",
    "        count+=1\n",
    "    return count"
   ]
  },
  {
   "cell_type": "markdown",
   "metadata": {},
   "source": [
    "As you can see in the code below, it's a function that counts the quantity of letters in a word. That's only a demonstration because in a term of utility, it's is useless because Python has a library called `len(\"<string>\")` that recives an string as input and returns the lenght of itself.\n",
    "\n",
    "**Example** (Hola Maria)"
   ]
  },
  {
   "cell_type": "code",
   "execution_count": 5,
   "metadata": {},
   "outputs": [
    {
     "data": {
      "text/plain": [
       "7"
      ]
     },
     "execution_count": 5,
     "metadata": {},
     "output_type": "execute_result"
    }
   ],
   "source": [
    "count_letters(\"Mikhael\")"
   ]
  }
 ],
 "metadata": {
  "kernelspec": {
   "display_name": "Python 3",
   "language": "python",
   "name": "python3"
  },
  "language_info": {
   "codemirror_mode": {
    "name": "ipython",
    "version": 3
   },
   "file_extension": ".py",
   "mimetype": "text/x-python",
   "name": "python",
   "nbconvert_exporter": "python",
   "pygments_lexer": "ipython3",
   "version": "3.6.0"
  }
 },
 "nbformat": 4,
 "nbformat_minor": 2
}
